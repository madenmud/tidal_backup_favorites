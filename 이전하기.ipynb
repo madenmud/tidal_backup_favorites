{
  "nbformat": 4,
  "nbformat_minor": 0,
  "metadata": {
    "colab": {
      "provenance": [],
      "authorship_tag": "ABX9TyMISXLtFaOC3Q0NXFCey0ra",
      "include_colab_link": true
    },
    "kernelspec": {
      "name": "python3",
      "display_name": "Python 3"
    },
    "language_info": {
      "name": "python"
    }
  },
  "cells": [
    {
      "cell_type": "markdown",
      "metadata": {
        "id": "view-in-github",
        "colab_type": "text"
      },
      "source": [
        "<a href=\"https://colab.research.google.com/github/madenmud/tidal_backup_favorites/blob/main/%EC%9D%B4%EC%A0%84%ED%95%98%EA%B8%B0.ipynb\" target=\"_parent\"><img src=\"https://colab.research.google.com/assets/colab-badge.svg\" alt=\"Open In Colab\"/></a>"
      ]
    },
    {
      "cell_type": "code",
      "execution_count": null,
      "metadata": {
        "colab": {
          "base_uri": "https://localhost:8080/"
        },
        "id": "6_v2ogauOMRq",
        "outputId": "f5a7602b-c176-46d1-e8c6-92652cadd7d3"
      },
      "outputs": [
        {
          "output_type": "stream",
          "name": "stdout",
          "text": [
            "Collecting tidalapi\n",
            "  Downloading tidalapi-0.7.3-py3-none-any.whl (38 kB)\n",
            "Requirement already satisfied: python-dateutil<3.0.0,>=2.8.2 in /usr/local/lib/python3.10/dist-packages (from tidalapi) (2.8.2)\n",
            "Requirement already satisfied: requests<3.0.0,>=2.28.0 in /usr/local/lib/python3.10/dist-packages (from tidalapi) (2.31.0)\n",
            "Requirement already satisfied: six>=1.5 in /usr/local/lib/python3.10/dist-packages (from python-dateutil<3.0.0,>=2.8.2->tidalapi) (1.16.0)\n",
            "Requirement already satisfied: charset-normalizer<4,>=2 in /usr/local/lib/python3.10/dist-packages (from requests<3.0.0,>=2.28.0->tidalapi) (3.2.0)\n",
            "Requirement already satisfied: idna<4,>=2.5 in /usr/local/lib/python3.10/dist-packages (from requests<3.0.0,>=2.28.0->tidalapi) (3.4)\n",
            "Requirement already satisfied: urllib3<3,>=1.21.1 in /usr/local/lib/python3.10/dist-packages (from requests<3.0.0,>=2.28.0->tidalapi) (2.0.4)\n",
            "Requirement already satisfied: certifi>=2017.4.17 in /usr/local/lib/python3.10/dist-packages (from requests<3.0.0,>=2.28.0->tidalapi) (2023.7.22)\n",
            "Installing collected packages: tidalapi\n",
            "Successfully installed tidalapi-0.7.3\n"
          ]
        }
      ],
      "source": [
        "!pip install tidalapi"
      ]
    },
    {
      "cell_type": "code",
      "source": [
        "!rm -rf tidal_backup_favorites\n",
        "!git clone https://github.com/madenmud/tidal_backup_favorites && cp tidal_backup_favorites/main.py ."
      ],
      "metadata": {
        "id": "9EOBlNy9Qkiz",
        "outputId": "109c380a-c461-487f-eef7-e59d5c1ae15f",
        "colab": {
          "base_uri": "https://localhost:8080/"
        }
      },
      "execution_count": 2,
      "outputs": [
        {
          "output_type": "stream",
          "name": "stdout",
          "text": [
            "Cloning into 'tidal_backup_favorites'...\n",
            "remote: Enumerating objects: 52, done.\u001b[K\n",
            "remote: Counting objects:   1% (1/52)\u001b[K\rremote: Counting objects:   3% (2/52)\u001b[K\rremote: Counting objects:   5% (3/52)\u001b[K\rremote: Counting objects:   7% (4/52)\u001b[K\rremote: Counting objects:   9% (5/52)\u001b[K\rremote: Counting objects:  11% (6/52)\u001b[K\rremote: Counting objects:  13% (7/52)\u001b[K\rremote: Counting objects:  15% (8/52)\u001b[K\rremote: Counting objects:  17% (9/52)\u001b[K\rremote: Counting objects:  19% (10/52)\u001b[K\rremote: Counting objects:  21% (11/52)\u001b[K\rremote: Counting objects:  23% (12/52)\u001b[K\rremote: Counting objects:  25% (13/52)\u001b[K\rremote: Counting objects:  26% (14/52)\u001b[K\rremote: Counting objects:  28% (15/52)\u001b[K\rremote: Counting objects:  30% (16/52)\u001b[K\rremote: Counting objects:  32% (17/52)\u001b[K\rremote: Counting objects:  34% (18/52)\u001b[K\rremote: Counting objects:  36% (19/52)\u001b[K\rremote: Counting objects:  38% (20/52)\u001b[K\rremote: Counting objects:  40% (21/52)\u001b[K\rremote: Counting objects:  42% (22/52)\u001b[K\rremote: Counting objects:  44% (23/52)\u001b[K\rremote: Counting objects:  46% (24/52)\u001b[K\rremote: Counting objects:  48% (25/52)\u001b[K\rremote: Counting objects:  50% (26/52)\u001b[K\rremote: Counting objects:  51% (27/52)\u001b[K\rremote: Counting objects:  53% (28/52)\u001b[K\rremote: Counting objects:  55% (29/52)\u001b[K\rremote: Counting objects:  57% (30/52)\u001b[K\rremote: Counting objects:  59% (31/52)\u001b[K\rremote: Counting objects:  61% (32/52)\u001b[K\rremote: Counting objects:  63% (33/52)\u001b[K\rremote: Counting objects:  65% (34/52)\u001b[K\rremote: Counting objects:  67% (35/52)\u001b[K\rremote: Counting objects:  69% (36/52)\u001b[K\rremote: Counting objects:  71% (37/52)\u001b[K\rremote: Counting objects:  73% (38/52)\u001b[K\rremote: Counting objects:  75% (39/52)\u001b[K\rremote: Counting objects:  76% (40/52)\u001b[K\rremote: Counting objects:  78% (41/52)\u001b[K\rremote: Counting objects:  80% (42/52)\u001b[K\rremote: Counting objects:  82% (43/52)\u001b[K\rremote: Counting objects:  84% (44/52)\u001b[K\rremote: Counting objects:  86% (45/52)\u001b[K\rremote: Counting objects:  88% (46/52)\u001b[K\rremote: Counting objects:  90% (47/52)\u001b[K\rremote: Counting objects:  92% (48/52)\u001b[K\rremote: Counting objects:  94% (49/52)\u001b[K\rremote: Counting objects:  96% (50/52)\u001b[K\rremote: Counting objects:  98% (51/52)\u001b[K\rremote: Counting objects: 100% (52/52)\u001b[K\rremote: Counting objects: 100% (52/52), done.\u001b[K\n",
            "remote: Compressing objects:   2% (1/40)\u001b[K\rremote: Compressing objects:   5% (2/40)\u001b[K\rremote: Compressing objects:   7% (3/40)\u001b[K\rremote: Compressing objects:  10% (4/40)\u001b[K\rremote: Compressing objects:  12% (5/40)\u001b[K\rremote: Compressing objects:  15% (6/40)\u001b[K\rremote: Compressing objects:  17% (7/40)\u001b[K\rremote: Compressing objects:  20% (8/40)\u001b[K\rremote: Compressing objects:  22% (9/40)\u001b[K\rremote: Compressing objects:  25% (10/40)\u001b[K\rremote: Compressing objects:  27% (11/40)\u001b[K\rremote: Compressing objects:  30% (12/40)\u001b[K\rremote: Compressing objects:  32% (13/40)\u001b[K\rremote: Compressing objects:  35% (14/40)\u001b[K\rremote: Compressing objects:  37% (15/40)\u001b[K\rremote: Compressing objects:  40% (16/40)\u001b[K\rremote: Compressing objects:  42% (17/40)\u001b[K\rremote: Compressing objects:  45% (18/40)\u001b[K\rremote: Compressing objects:  47% (19/40)\u001b[K\rremote: Compressing objects:  50% (20/40)\u001b[K\rremote: Compressing objects:  52% (21/40)\u001b[K\rremote: Compressing objects:  55% (22/40)\u001b[K\rremote: Compressing objects:  57% (23/40)\u001b[K\rremote: Compressing objects:  60% (24/40)\u001b[K\rremote: Compressing objects:  62% (25/40)\u001b[K\rremote: Compressing objects:  65% (26/40)\u001b[K\rremote: Compressing objects:  67% (27/40)\u001b[K\rremote: Compressing objects:  70% (28/40)\u001b[K\rremote: Compressing objects:  72% (29/40)\u001b[K\rremote: Compressing objects:  75% (30/40)\u001b[K\rremote: Compressing objects:  77% (31/40)\u001b[K\rremote: Compressing objects:  80% (32/40)\u001b[K\rremote: Compressing objects:  82% (33/40)\u001b[K\rremote: Compressing objects:  85% (34/40)\u001b[K\rremote: Compressing objects:  87% (35/40)\u001b[K\rremote: Compressing objects:  90% (36/40)\u001b[K\rremote: Compressing objects:  92% (37/40)\u001b[K\rremote: Compressing objects:  95% (38/40)\u001b[K\rremote: Compressing objects:  97% (39/40)\u001b[K\rremote: Compressing objects: 100% (40/40)\u001b[K\rremote: Compressing objects: 100% (40/40), done.\u001b[K\n",
            "Receiving objects:   1% (1/52)\rReceiving objects:   3% (2/52)\rReceiving objects:   5% (3/52)\rReceiving objects:   7% (4/52)\rReceiving objects:   9% (5/52)\rReceiving objects:  11% (6/52)\rReceiving objects:  13% (7/52)\rremote: Total 52 (delta 23), reused 23 (delta 8), pack-reused 0 (from 0)\u001b[K\n",
            "Receiving objects:  15% (8/52)\rReceiving objects:  17% (9/52)\rReceiving objects:  19% (10/52)\rReceiving objects:  21% (11/52)\rReceiving objects:  23% (12/52)\rReceiving objects:  25% (13/52)\rReceiving objects:  26% (14/52)\rReceiving objects:  28% (15/52)\rReceiving objects:  30% (16/52)\rReceiving objects:  32% (17/52)\rReceiving objects:  34% (18/52)\rReceiving objects:  36% (19/52)\rReceiving objects:  38% (20/52)\rReceiving objects:  40% (21/52)\rReceiving objects:  42% (22/52)\rReceiving objects:  44% (23/52)\rReceiving objects:  46% (24/52)\rReceiving objects:  48% (25/52)\rReceiving objects:  50% (26/52)\rReceiving objects:  51% (27/52)\rReceiving objects:  53% (28/52)\rReceiving objects:  55% (29/52)\rReceiving objects:  57% (30/52)\rReceiving objects:  59% (31/52)\rReceiving objects:  61% (32/52)\rReceiving objects:  63% (33/52)\rReceiving objects:  65% (34/52)\rReceiving objects:  67% (35/52)\rReceiving objects:  69% (36/52)\rReceiving objects:  71% (37/52)\rReceiving objects:  73% (38/52)\rReceiving objects:  75% (39/52)\rReceiving objects:  76% (40/52)\rReceiving objects:  78% (41/52)\rReceiving objects:  80% (42/52)\rReceiving objects:  82% (43/52)\rReceiving objects:  84% (44/52)\rReceiving objects:  86% (45/52)\rReceiving objects:  88% (46/52)\rReceiving objects:  90% (47/52)\rReceiving objects:  92% (48/52)\rReceiving objects:  94% (49/52)\rReceiving objects:  96% (50/52)\rReceiving objects:  98% (51/52)\rReceiving objects: 100% (52/52)\rReceiving objects: 100% (52/52), 13.49 KiB | 1.69 MiB/s, done.\n",
            "Resolving deltas:   0% (0/23)\rResolving deltas:   4% (1/23)\rResolving deltas:   8% (2/23)\rResolving deltas:  13% (3/23)\rResolving deltas:  17% (4/23)\rResolving deltas:  21% (5/23)\rResolving deltas:  26% (6/23)\rResolving deltas:  30% (7/23)\rResolving deltas:  34% (8/23)\rResolving deltas:  39% (9/23)\rResolving deltas:  43% (10/23)\rResolving deltas:  47% (11/23)\rResolving deltas:  52% (12/23)\rResolving deltas:  56% (13/23)\rResolving deltas:  60% (14/23)\rResolving deltas:  65% (15/23)\rResolving deltas:  69% (16/23)\rResolving deltas:  73% (17/23)\rResolving deltas:  78% (18/23)\rResolving deltas:  82% (19/23)\rResolving deltas:  86% (20/23)\rResolving deltas:  91% (21/23)\rResolving deltas:  95% (22/23)\rResolving deltas: 100% (23/23)\rResolving deltas: 100% (23/23), done.\n"
          ]
        }
      ]
    },
    {
      "cell_type": "markdown",
      "source": [
        "아래 셀 실행 후 백업할 기존 계정으로 로그인 후 로그 아웃"
      ],
      "metadata": {
        "id": "OI2q8uucOVsI"
      }
    },
    {
      "cell_type": "code",
      "source": [
        "!python main.py --backup"
      ],
      "metadata": {
        "id": "ufJxCASQORPa"
      },
      "execution_count": null,
      "outputs": []
    },
    {
      "cell_type": "markdown",
      "source": [
        "아래 셀 실행 후 이동할 신규 계정으로 로그인"
      ],
      "metadata": {
        "id": "dI7l-SizOU_C"
      }
    },
    {
      "cell_type": "code",
      "source": [
        "!python main.py --restore"
      ],
      "metadata": {
        "id": "aW4i24KsOSLR"
      },
      "execution_count": null,
      "outputs": []
    }
  ]
}