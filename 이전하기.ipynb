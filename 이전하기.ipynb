{
  "nbformat": 4,
  "nbformat_minor": 0,
  "metadata": {
    "colab": {
      "provenance": [],
      "authorship_tag": "ABX9TyOP/qviR2zzcq2ehSvIQcfv",
      "include_colab_link": true
    },
    "kernelspec": {
      "name": "python3",
      "display_name": "Python 3"
    },
    "language_info": {
      "name": "python"
    }
  },
  "cells": [
    {
      "cell_type": "markdown",
      "metadata": {
        "id": "view-in-github",
        "colab_type": "text"
      },
      "source": [
        "<a href=\"https://colab.research.google.com/github/madenmud/tidal_backup_favorites/blob/main/%EC%9D%B4%EC%A0%84%ED%95%98%EA%B8%B0.ipynb\" target=\"_parent\"><img src=\"https://colab.research.google.com/assets/colab-badge.svg\" alt=\"Open In Colab\"/></a>"
      ]
    },
    {
      "cell_type": "code",
      "execution_count": 1,
      "metadata": {
        "colab": {
          "base_uri": "https://localhost:8080/"
        },
        "id": "6_v2ogauOMRq",
        "outputId": "f5a7602b-c176-46d1-e8c6-92652cadd7d3"
      },
      "outputs": [
        {
          "output_type": "stream",
          "name": "stdout",
          "text": [
            "Collecting tidalapi\n",
            "  Downloading tidalapi-0.7.3-py3-none-any.whl (38 kB)\n",
            "Requirement already satisfied: python-dateutil<3.0.0,>=2.8.2 in /usr/local/lib/python3.10/dist-packages (from tidalapi) (2.8.2)\n",
            "Requirement already satisfied: requests<3.0.0,>=2.28.0 in /usr/local/lib/python3.10/dist-packages (from tidalapi) (2.31.0)\n",
            "Requirement already satisfied: six>=1.5 in /usr/local/lib/python3.10/dist-packages (from python-dateutil<3.0.0,>=2.8.2->tidalapi) (1.16.0)\n",
            "Requirement already satisfied: charset-normalizer<4,>=2 in /usr/local/lib/python3.10/dist-packages (from requests<3.0.0,>=2.28.0->tidalapi) (3.2.0)\n",
            "Requirement already satisfied: idna<4,>=2.5 in /usr/local/lib/python3.10/dist-packages (from requests<3.0.0,>=2.28.0->tidalapi) (3.4)\n",
            "Requirement already satisfied: urllib3<3,>=1.21.1 in /usr/local/lib/python3.10/dist-packages (from requests<3.0.0,>=2.28.0->tidalapi) (2.0.4)\n",
            "Requirement already satisfied: certifi>=2017.4.17 in /usr/local/lib/python3.10/dist-packages (from requests<3.0.0,>=2.28.0->tidalapi) (2023.7.22)\n",
            "Installing collected packages: tidalapi\n",
            "Successfully installed tidalapi-0.7.3\n"
          ]
        }
      ],
      "source": [
        "!pip install tidalapi"
      ]
    },
    {
      "cell_type": "markdown",
      "source": [
        "아래 셀 실행 후 백업할 기존 계정으로 로그인 후 로그 아웃"
      ],
      "metadata": {
        "id": "OI2q8uucOVsI"
      }
    },
    {
      "cell_type": "code",
      "source": [
        "!python main.py --backup"
      ],
      "metadata": {
        "id": "ufJxCASQORPa"
      },
      "execution_count": null,
      "outputs": []
    },
    {
      "cell_type": "markdown",
      "source": [
        "아래 셀 실행 후 이동할 신규 계정으로 로그인"
      ],
      "metadata": {
        "id": "dI7l-SizOU_C"
      }
    },
    {
      "cell_type": "code",
      "source": [
        "!python main.py --restore"
      ],
      "metadata": {
        "id": "aW4i24KsOSLR"
      },
      "execution_count": null,
      "outputs": []
    }
  ]
}