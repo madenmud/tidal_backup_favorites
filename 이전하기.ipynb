{
  "nbformat": 4,
  "nbformat_minor": 0,
  "metadata": {
    "colab": {
      "provenance": [],
      "authorship_tag": "ABX9TyMISXLtFaOC3Q0NXFCey0ra",
      "include_colab_link": true
    },
    "kernelspec": {
      "name": "python3",
      "display_name": "Python 3"
    },
    "language_info": {
      "name": "python"
    }
  },
  "cells": [
    {
      "cell_type": "markdown",
      "metadata": {
        "id": "view-in-github",
        "colab_type": "text"
      },
      "source": [
        "<a href=\"https://colab.research.google.com/github/madenmud/tidal_backup_favorites/blob/main/%EC%9D%B4%EC%A0%84%ED%95%98%EA%B8%B0.ipynb\" target=\"_parent\"><img src=\"https://colab.research.google.com/assets/colab-badge.svg\" alt=\"Open In Colab\"/></a>"
      ]
    },
    {
      "cell_type": "code",
      "execution_count": null,
      "metadata": {
        "id": "6_v2ogauOMRq"
      },
      "outputs": [],
      "source": [
        "!pip install tidalapi"
      ]
    },
    {
      "cell_type": "code",
      "source": [
        "!rm -rf tidal_backup_favorites\n",
        "!git clone https://github.com/madenmud/tidal_backup_favorites && cp tidal_backup_favorites/main.py ."
      ],
      "metadata": {
        "id": "9EOBlNy9Qkiz"
      },
      "execution_count": null,
      "outputs": []
    },
    {
      "cell_type": "markdown",
      "source": [
        "아래 셀 실행 후 백업할 기존 계정으로 로그인 후 로그 아웃"
      ],
      "metadata": {
        "id": "OI2q8uucOVsI"
      }
    },
    {
      "cell_type": "code",
      "source": [
        "!python main.py --backup"
      ],
      "metadata": {
        "id": "ufJxCASQORPa"
      },
      "execution_count": null,
      "outputs": []
    },
    {
      "cell_type": "markdown",
      "source": [
        "아래 셀 실행 후 이동할 신규 계정으로 로그인"
      ],
      "metadata": {
        "id": "dI7l-SizOU_C"
      }
    },
    {
      "cell_type": "code",
      "source": [
        "!python main.py --restore"
      ],
      "metadata": {
        "id": "aW4i24KsOSLR"
      },
      "execution_count": null,
      "outputs": []
    }
  ]
}